{
 "cells": [
  {
   "cell_type": "markdown",
   "metadata": {
    "toc": true
   },
   "source": [
    "<h1>Table of Contents<span class=\"tocSkip\"></span></h1>\n",
    "<div class=\"toc\"><ul class=\"toc-item\"><li><span><a href=\"#Model-Air-Pollution-Thailand-and-South-East-Asian-Countries\" data-toc-modified-id=\"Model-Air-Pollution-Thailand-and-South-East-Asian-Countries-1\"><span class=\"toc-item-num\">1&nbsp;&nbsp;</span>Model Air Pollution Thailand and South East Asian Countries</a></span></li><li><span><a href=\"#Requirements\" data-toc-modified-id=\"Requirements-2\"><span class=\"toc-item-num\">2&nbsp;&nbsp;</span>Requirements</a></span></li><li><span><a href=\"#Directory-Tree\" data-toc-modified-id=\"Directory-Tree-3\"><span class=\"toc-item-num\">3&nbsp;&nbsp;</span>Directory Tree</a></span></li><li><span><a href=\"#Data-Sources\" data-toc-modified-id=\"Data-Sources-4\"><span class=\"toc-item-num\">4&nbsp;&nbsp;</span>Data Sources</a></span><ul class=\"toc-item\"><li><span><a href=\"#Pollution-Data\" data-toc-modified-id=\"Pollution-Data-4.1\"><span class=\"toc-item-num\">4.1&nbsp;&nbsp;</span>Pollution Data</a></span></li><li><span><a href=\"#Weather-Data\" data-toc-modified-id=\"Weather-Data-4.2\"><span class=\"toc-item-num\">4.2&nbsp;&nbsp;</span>Weather Data</a></span></li><li><span><a href=\"#Hotspot-Data\" data-toc-modified-id=\"Hotspot-Data-4.3\"><span class=\"toc-item-num\">4.3&nbsp;&nbsp;</span>Hotspot Data</a></span></li></ul></li><li><span><a href=\"#AQI-Standards\" data-toc-modified-id=\"AQI-Standards-5\"><span class=\"toc-item-num\">5&nbsp;&nbsp;</span>AQI Standards</a></span></li><li><span><a href=\"#Modeling-Air-Pollution-in-Chiang-Mai-Data-:-A-Case-Study\" data-toc-modified-id=\"Modeling-Air-Pollution-in-Chiang-Mai-Data-:-A-Case-Study-6\"><span class=\"toc-item-num\">6&nbsp;&nbsp;</span>Modeling Air Pollution in Chiang Mai Data : A Case Study</a></span><ul class=\"toc-item\"><li><span><a href=\"#Casual-Diagram\" data-toc-modified-id=\"Casual-Diagram-6.1\"><span class=\"toc-item-num\">6.1&nbsp;&nbsp;</span>Casual Diagram</a></span></li><li><span><a href=\"#Exploratory-Data-Analysis\" data-toc-modified-id=\"Exploratory-Data-Analysis-6.2\"><span class=\"toc-item-num\">6.2&nbsp;&nbsp;</span>Exploratory Data Analysis</a></span><ul class=\"toc-item\"><li><span><a href=\"#Geography\" data-toc-modified-id=\"Geography-6.2.1\"><span class=\"toc-item-num\">6.2.1&nbsp;&nbsp;</span>Geography</a></span></li><li><span><a href=\"#PM2.5-Pollution\" data-toc-modified-id=\"PM2.5-Pollution-6.2.2\"><span class=\"toc-item-num\">6.2.2&nbsp;&nbsp;</span>PM2.5 Pollution</a></span></li><li><span><a href=\"#Agricultural-Burning\" data-toc-modified-id=\"Agricultural-Burning-6.2.3\"><span class=\"toc-item-num\">6.2.3&nbsp;&nbsp;</span>Agricultural Burning</a></span></li></ul></li><li><span><a href=\"#Model-Optimization\" data-toc-modified-id=\"Model-Optimization-6.3\"><span class=\"toc-item-num\">6.3&nbsp;&nbsp;</span>Model Optimization</a></span><ul class=\"toc-item\"><li><span><a href=\"#Training\" data-toc-modified-id=\"Training-6.3.1\"><span class=\"toc-item-num\">6.3.1&nbsp;&nbsp;</span>Training</a></span></li><li><span><a href=\"#Model-Performance\" data-toc-modified-id=\"Model-Performance-6.3.2\"><span class=\"toc-item-num\">6.3.2&nbsp;&nbsp;</span>Model Performance</a></span></li></ul></li><li><span><a href=\"#Simulation\" data-toc-modified-id=\"Simulation-6.4\"><span class=\"toc-item-num\">6.4&nbsp;&nbsp;</span>Simulation</a></span></li></ul></li><li><span><a href=\"#Conclusions\" data-toc-modified-id=\"Conclusions-7\"><span class=\"toc-item-num\">7&nbsp;&nbsp;</span>Conclusions</a></span></li></ul></div>"
   ]
  },
  {
   "cell_type": "markdown",
   "metadata": {},
   "source": [
    "# Model Air Pollution Thailand and South East Asian Countries"
   ]
  },
  {
   "cell_type": "markdown",
   "metadata": {},
   "source": [
    "This project aims to use a machine learning model to predict and identify sources of air pollution southeast Asian cities. Because this is a multi-variables problem with complex interaction among features, and time-lag, a machine learning approach has an advantage over a traditional approach. In this study, a random forest regressor(RF) is used to model a small particle pollution(PM2.5) level. After trying to search for various machine learning models, I found that RF performs the best. Besides, the model can be easily interpreted. The model's feature of importances in a combination of data exploration helps identify the major sources of air pollution. The trained model is used to simulate the pollution level when environmental policies are implemented. Here, I provide a case study for Chiang Mai, but the codes work with other cities such as Bangkok, and Hanoi (Given there is enough data, of course!)\n",
    "\n",
    "To explain how to use my code to analyze the air pollution, I first explain the [packages](#Requirements-2) I used and the [directory tree](#Directory-Tree-3). Then I will describe how to obtain [data](#Data-Sources-4). [AQI convention](#AQI-Convention-5) section explains the color label used in this study. [An Analysis for Chiang Mai](#Modeling-Air-Pollution-in-Chiang-Mai-Data-:-A-Case-Study-6) is split into [Exploring the data](Exploratory-Data-Analysis-6.3), [model optimization](Model-Optimization-6.4), and [simulation](#Simulation-6.5). I will include result figures and the code I used to generate the figures if applicable. The analysis results for Chiang Mai is summarized in the [conclusions](#Conclusions-8) \n"
   ]
  },
  {
   "cell_type": "markdown",
   "metadata": {
    "heading_collapsed": true
   },
   "source": [
    "# Requirements"
   ]
  },
  {
   "cell_type": "markdown",
   "metadata": {
    "hidden": true
   },
   "source": [
    "numpy==1.18.1<br>\n",
    "matplotlib==3.1.2<br>\n",
    "pandas==1.0.0<br>\n",
    "geopandas==0.6.2<br>\n",
    "scikit_optimize==0.7.4 <br>\n",
    "scikit_learn==0.23.2<br>\n",
    "TPOT==0.11.5<br>\n",
    "statsmodels==0.11.1<br>\n",
    "scipy==1.4.1<br>\n",
    "seaborn==0.10.0<br>\n",
    "joblib==0.14.1<br>\n",
    "tqdm==4.43.0<br>\n",
    "Shapely==1.7.0<br>\n",
    "pyproj==2.4.2.post1<br>\n",
    "Fiona==1.8.13<br>\n",
    "bokeh==2.1.1<br>\n",
    "selenium==3.141.0 <br>\n",
    "wget==3.2<br>\n",
    "beautifulsoup4==4.9.1<br>\n",
    "requests==2.22.0<br>\n",
    "swifter==1.0.3<br>\n",
    "Sphinx>=1.6.0<br>"
   ]
  },
  {
   "cell_type": "markdown",
   "metadata": {
    "heading_collapsed": true
   },
   "source": [
    "# Directory Tree"
   ]
  },
  {
   "cell_type": "markdown",
   "metadata": {
    "hidden": true
   },
   "source": [
    "<pre>\n",
    "├── README.md   \n",
    "├── requirements.txt : generated by pipreqs\n",
    "├── data : raw data and processed data for each cities. Please see the data section for details about how to obtains the raw data\n",
    "├── docs._build.html : code documentations generated by Sphinx \n",
    "├── models : each subfolder contains a model for a each city.  \n",
    "│   ├──  chiang_mai : contains random forest models for Chiang Mai and model meta file containing setting\n",
    "│   └── bangkok   \n",
    "├── reports : plots for each city \n",
    "│   ├── chiang_mai : data and model visualizations for Chiang Mai\n",
    "│   └── bangkok   \n",
    "├── notebooks   \n",
    "│   ├── 1_pollutions_data.ipynb : \n",
    "│   ├── 1.1_vn_power_plants.ipynb : \n",
    "│   ├── 2_analyze_pollution_data.ipynb : \n",
    "│   ├── 5.0-ML_Chiang_mai.ipynb : \n",
    "│   ├── 6.0_vis_ChiangMai.ipynb : \n",
    "│   ├── 6.1_BKK.ipynb : \n",
    "│   ├── 6.2_vis_Jarkata.ipynb : \n",
    "│   ├── 6.3_Hanoi.ipynb : \n",
    "│   └── 7_prediction.ipynb : \n",
    "│   \n",
    "└── src : the source codes are meant to be ran as a module not as .py (except for vn_data.py) \n",
    "    ├── imports.py : \n",
    "    ├── gen_functions.py : general purpose functions such as color setting, AQI conversion and coordinate Conversion\n",
    "    ├── data : download and preprocess data \n",
    "    │   ├── download_data.py :  download pollution data from various sources \n",
    "    │   ├── read_data.py :  read pollution data \n",
    "    │   ├── vn_data.py : scrape pollution data from Vietnamese EPA\n",
    "    │   ├── weather_data.py : scrape, process and load weather data\n",
    "    │   └── fire_data.py : process and load hotspots data\n",
    "    │     \n",
    "    ├── features   \n",
    "    │   ├── build_features.py : \n",
    "    │   └── dataset.py : Dataset object is responsible for putting raw data together, \n",
    "    │                    feature engineering and preparing matricies for machine learning models. \n",
    "    │                    Call read_data.py when loading data\n",
    "    │                    Call build_features.py for feature engineering functions \n",
    "    ├── models   \n",
    "    │   ├── train_model.py :  model builder and hyperparameter searcher\n",
    "    │   └── predict_model.py : load model and perform statistical simulations\n",
    "    │   \n",
    "    └── visualization  \n",
    "        ├── vis_data.py : create plots for data exploration steps   \n",
    "        └── vis_model.py : create plots for visualizing model performance and simulation \n",
    "</pre>"
   ]
  },
  {
   "cell_type": "markdown",
   "metadata": {
    "heading_collapsed": true
   },
   "source": [
    "# Data Sources"
   ]
  },
  {
   "cell_type": "markdown",
   "metadata": {
    "heading_collapsed": true,
    "hidden": true
   },
   "source": [
    "## Pollution Data\n",
    " - [Thailand Pollution Department](http://air4thai.pcd.go.th/webV2/) Data only go back 2 months! so need to run scapper once a month using `src.data.download_data.update_last_air4Thai()` . Once can also writes a letter to ask for historical data directly. The request took about a month to process. The data has to be parsed from their excel files.  \n",
    " - [Vietnamese Pollution Department](http://enviinfo.cem.gov.vn/) Pollution data for major cities such as Hanoi. Data only go back 24 hours, so need to run scapper once a day. This is done using using `src.data.vn_data.download_vn_data()`\n",
    " - [Berkeley project](http://berkeleyearth.org/) provides historical PM2.5 data back until late 2016 \n",
    " - [US Embassy](http://dosairnowdata.org/dos/historical/) US embassy in some cities collect PM2.5 data. Use `src.data.download_data.download_us_emb_data()` to download data. \n",
    " - [Chiang Mai University Monitoring Stations](https://www.cmuccdc.org/) provides data from the University monitoring stations in the northern part of Thailand. Use `src.data.download_data..download_cdc_data()` to download this data.  \n",
    " - [The World Air\n",
    "Quality Project](https://aqicn.org/) has pollutions data from many cities, but only provide daily average data  \n",
    "\n",
    "## Weather Data \n",
    "\n",
    "Weather data is from two sources. \n",
    "\n",
    "- [OpenWeathermap](https://openweathermap.org/history) provides a bulk historial data to purchase. The data is processed using `src.data.weather_data.proc_open_weather()`\n",
    "- Additional weather data is constantly scraped from [Weather Underground)(https://www.wunderground.com/) `src.data.weather_data.update_weather()` \n",
    "\n",
    "Both the pollution data and weather data are can be downloaded using one single command `src.data.download_data.main()`\n",
    "\n",
    "\n",
    "## Hotspot Data \n",
    "\n",
    "Satellite data showing location of burning activities(hotspots) from NASA https://firms.modaps.eosdis.nasa.gov/download/. There are three data product. This study uses MODIS Collection 6 data because of the data available for a longer period that other products."
   ]
  },
  {
   "cell_type": "markdown",
   "metadata": {},
   "source": [
    "# AQI Standards"
   ]
  },
  {
   "cell_type": "markdown",
   "metadata": {},
   "source": [
    "Countries have different standards, which convert the raw polution readings into air quality index(AQI) and interpret the harmful levels. The maximum AQIs for each pollutants (PM2.5, Pm10, SO2 etc) is reported at a single AQI. The figure belows compare US and Thailand AQI. The standards are comparable except for SO$_2$, where the US has a stricker standard. This study use US AQI conversion standard for calculating AQI for different pollutants. For example, in the PM2.5 case \n",
    "- 0 - 50 AQI is in a good/satisfactory range. This corresponds to PM2.5 level between 0 - 12 $\\mu g/m^3$ (green). \n",
    "- 51 - 100 AQI is a moderate range, corresponding to PM2.5 12.1- 35.4  $\\mu g/m^3$ (darkyellow)\n",
    "- 101 - 150 AQI is a unhealthy for sensitive group, corresponding to PM2.5 35.5- 55.4  $\\mu g/m^3$ (orange)\n",
    "- 151 - 200 AQI is a unhealthy range, corresponding to PM2.5 55.5- 150.4  $\\mu g/m^3$ (red)\n",
    "- 200+ AQI is a very unhealthy range, corresponding to PM2.5 > 150.5  $\\mu g/m^3$ (purple)\n",
    "\n"
   ]
  },
  {
   "cell_type": "markdown",
   "metadata": {},
   "source": [
    "![png](https://github.com/worasom/aqi_thailand2/blob/master/reports/chiang_mai/aqi.png)"
   ]
  },
  {
   "cell_type": "markdown",
   "metadata": {},
   "source": [
    "#  Modeling Air Pollution in Chiang Mai Data : A Case Study"
   ]
  },
  {
   "cell_type": "markdown",
   "metadata": {},
   "source": [
    "For command used in this analysis, please refer to [EPA notebook](https://github.com/worasom/aqi_thailand2/blob/master/notebooks/4.0_vis_ChiangMai.ipynb) for data analysis, [model optimization notebook](https://github.com/worasom/aqi_thailand2/blob/master/notebooks/5.0-ML_Chiang_mai.ipynb) for training, and [prediction notebook](https://github.com/worasom/aqi_thailand2/blob/master/notebooks/6_prediction.ipynb) for statistical prediction."
   ]
  },
  {
   "cell_type": "markdown",
   "metadata": {},
   "source": [
    "## Casual Diagram"
   ]
  },
  {
   "cell_type": "markdown",
   "metadata": {},
   "source": [
    "There are four possible sources of air pollution: local traffic, power plants, industrial activities, and agricultural burning. For the latter three sources, the pollution is generated from the other provinces. In all of these sources, the local weather (temperature, humidity, and wind speed) decides how long the pollution stays in the air, and thus the pollution level. \n",
    "\n",
    "Since each pollution source results in different seasonal pollution patterns and chemical characteristics(chemical finger print), inspecting the pollutions data, weather, and several burning hotspots seen from the satellite images and the patterns could help identify or rule out air pollution contribution factors. This is done in [exploratory data analysis section](#Exploratory-Data-Analysis-6.2).\n"
   ]
  },
  {
   "cell_type": "markdown",
   "metadata": {},
   "source": [
    "<img src=\"https://github.com/worasom/aqi_thailand2/blob/master/reports/chiang_mai/casual_di.PNG\" width=\"500\"/>"
   ]
  },
  {
   "cell_type": "markdown",
   "metadata": {},
   "source": [
    "## Exploratory Data Analysis"
   ]
  },
  {
   "cell_type": "markdown",
   "metadata": {},
   "source": [
    "The first step before any machine learning model is to understand the data. The file `src.visualization.vis_data.py` contains many useful functions for quick data visualization. Again the code for this section can be founded in [notebook](https://github.com/worasom/aqi_thailand2/blob/master/notebooks/4.0_vis_ChiangMai.ipynb)  "
   ]
  },
  {
   "cell_type": "markdown",
   "metadata": {},
   "source": [
    "### Geography"
   ]
  },
  {
   "cell_type": "markdown",
   "metadata": {},
   "source": [
    "It is important to understand the geography of the city. The picture belows show a map of Chiang Mai. It is a medium size city surrounded by high mountains. Locations of the monitoring stations, near by industrial complex and power plants are also shown."
   ]
  },
  {
   "cell_type": "markdown",
   "metadata": {},
   "source": [
    "![map of Chiang Mai](https://github.com/worasom/aqi_thailand2/blob/master/reports/chiang_mai/cm_map.png)"
   ]
  },
  {
   "cell_type": "markdown",
   "metadata": {},
   "source": [
    "### PM2.5 Pollution"
   ]
  },
  {
   "cell_type": "markdown",
   "metadata": {},
   "source": [
    "Compare the AQI for different pollution. PM2.5 has the worse AQI, follow by O$_3# and PM10. These three pollution are highly correlated and shows clear seasonal pattern. Since data for PM2.5 does not go back as far, I will later use PM10 to infer the trend of PM2.5. \n",
    "\n",
    "\n",
    "![different pollutants](https://github.com/worasom/aqi_thailand2/blob/master/reports/chiang_mai/all_pol_aqi.png)"
   ]
  },
  {
   "cell_type": "markdown",
   "metadata": {},
   "source": [
    "In the figure below, Seasonal patterns of PM2.5 level(top), number of hotspots within 1000 km from Chiang Mai(middle), and temperature(bottom). The shaded regions are 95% confident interval from different years. (top) the horizontal lines indicate the values corresponded to AQI 100 (moderate) and 150 (unhealthy) accordingly. The number of hotspots has a similar seasonal pattern as the PM2.5’s."
   ]
  },
  {
   "cell_type": "markdown",
   "metadata": {},
   "source": [
    "![seasonal pattern](https://github.com/worasom/aqi_thailand2/blob/master/reports/chiang_mai/fire_PM25_t_season.png)"
   ]
  },
  {
   "cell_type": "markdown",
   "metadata": {},
   "source": [
    "When overlaying the seasonal pattern plots of the PM2.5 and the number of hotspots, they have almost exactly the same pattern. This highly suggest that the burning activities is the causes of high PM2.5 in Chiang Mai. \n",
    "\n",
    "![seasonal pattern](https://github.com/worasom/aqi_thailand2/blob/master/reports/chiang_mai/fire_PM25_season_aqi.png)"
   ]
  },
  {
   "cell_type": "markdown",
   "metadata": {},
   "source": [
    "Yearly trend rule out indirect and direct effect of global warming. The rising temperature is in the upward trend, while the trend for the pollution level(PM10) has a downward trend. Since PM10 and PM2.5 are highly correlated, we can de\n",
    "\n",
    "![linear trend](https://github.com/worasom/aqi_thailand2/blob/master/reports/chiang_mai/compare_ln_trends.png)"
   ]
  },
  {
   "cell_type": "markdown",
   "metadata": {},
   "source": [
    "### Agricultural Burning "
   ]
  },
  {
   "cell_type": "markdown",
   "metadata": {},
   "source": [
    "Since the concentration of hotspots differs at various distances from Chiang Mai, it is important to divide the burning activity into distance-based zones. Figure below shows four fire zone. The first zone is within 100 km from Chiang Mai within the Thailand border. The second and third zone is 100 - 200 km and 200 - 400 km from Chiang Mai. A lot of fire activities in this zone are in Myanmar and Laos(red spots). The third zone is between 400 and 700 km from Chiang Mai. Most burning activities here are in Laos.  The last zone is between 700 and 1000 km. This zone also not only includes the burning activities in Myanmar, Laos, and Vietnam but also those in Cambodia. However, most fire activities in Cambodia, which is much further away and the burning activities concentrate in December(blue spots), which is not the month with the highest pollution in Chiang Mai. \n",
    "\n",
    "![fire_zone](https://github.com/worasom/aqi_thailand2/blob/master/reports/chiang_mai/fire_zone.png)"
   ]
  },
  {
   "cell_type": "markdown",
   "metadata": {},
   "source": [
    "## Model Optimization"
   ]
  },
  {
   "cell_type": "markdown",
   "metadata": {},
   "source": [
    "### Training"
   ]
  },
  {
   "cell_type": "markdown",
   "metadata": {},
   "source": [
    "Model Optimization breakdown into the following steps\n",
    "\n",
    "1. Build dataset using default fire parameter. Split the data into train, validation and test set. Optimize for a reasonable RandomForestRegressor model  \n",
    "2. Remove lower importance features from the model  \n",
    "3. Optimize for the best fire features\n",
    "4. Improve model performance by adding lag columns (of weather and fire)\n",
    "5. Remove lower importance lag columns \n",
    "6. Optimize for better model parameters again  \n",
    "7. Save model and model meta information \n",
    "\n",
    "These steps are carried out in a single line of code. "
   ]
  },
  {
   "cell_type": "code",
   "execution_count": null,
   "metadata": {},
   "outputs": [],
   "source": [
    "dataset, rf_model, model_meta = src.models.train_model.train_city_s1(city='Chiang Mai', pollutant='PM2.5')"
   ]
  },
  {
   "cell_type": "markdown",
   "metadata": {},
   "source": [
    "### Model Performance"
   ]
  },
  {
   "cell_type": "markdown",
   "metadata": {},
   "source": [
    "Look at the model performance by plotting actual data and the prediction data. In the [simulation](#Simulation-6.5) section, I will be using the daily average of the prediction, therefore I will also look at the prediction error of the daily average data.\n",
    "\n",
    "\n",
    "\n",
    "![model performance](https://github.com/worasom/aqi_thailand2/blob/master/reports/chiang_mai/PM25_model_perfomance.png)"
   ]
  },
  {
   "cell_type": "code",
   "execution_count": null,
   "metadata": {},
   "outputs": [],
   "source": [
    "_, df = plot_model_perf(dataset=data, model=rf_model, split_list=[0.7, 0.3], xlim=[], to_save=False)"
   ]
  },
  {
   "cell_type": "markdown",
   "metadata": {},
   "source": [
    "When loading a model using `src.models.predict_model.load_model`, the function calculate the R2-score for the test set(which is an hourly pollution data). Then, its calculate the R2-score of a daily average of both the training and test data. \n",
    "\n",
    "For Chiang Mai, hourly prediction R2-score is 0.71. The daily average test data has R2-score of 0.79. This is pretty good.   "
   ]
  },
  {
   "cell_type": "code",
   "execution_count": 49,
   "metadata": {
    "scrolled": true
   },
   "outputs": [
    {
     "name": "stdout",
     "output_type": "stream",
     "text": [
      "data no fire has shape (77747, 14)\n",
      "raw model performance {'test_r2_score': 0.7181850826320375, 'test_mean_squared_error': 220.3070792867193, 'test_mean_absolute_error': 9.069185235196183}\n",
      "daily avg training error {'avg_trn_r2_score': 0.9056688733734121, 'avg_trn_mean_squared_error': 61.629098357499416, 'avg_trn_mean_absolute_error': 4.718201297339313}\n",
      "daily avg test error {'avg_test_r2_score': 0.7880245398552946, 'avg_test_mean_squared_error': 142.22351861838922, 'avg_test_mean_absolute_error': 7.67540429113698}\n"
     ]
    }
   ],
   "source": [
    "dataset, model, *argv = src.models.predict_model.load_model(city='Chiang Mai', pollutant='PM2.5',split_list=[0.7, 0.3])"
   ]
  },
  {
   "cell_type": "markdown",
   "metadata": {},
   "source": [
    "## Simulation"
   ]
  },
  {
   "cell_type": "markdown",
   "metadata": {},
   "source": [
    "\n",
    "The figure below ranks input’s order of importance. fire_100_200 means the hotspots between 100 – 200 km from Chiang Mai. The fire columns are the most important features indicating that agricultural burning is the major source of air pollution. \n",
    "\n",
    "![feature_importance](https://github.com/worasom/aqi_thailand2/blob/master/reports/chiang_mai/PM25_rf_fea_op2_nolag.png)"
   ]
  },
  {
   "cell_type": "code",
   "execution_count": null,
   "metadata": {},
   "outputs": [],
   "source": []
  },
  {
   "cell_type": "markdown",
   "metadata": {},
   "source": [
    "Compare the set aside test data and the simulation. \n",
    "\n",
    "\n",
    "![test_data_vs_inference](https://github.com/worasom/aqi_thailand2/blob/master/reports/chiang_mai/test_data_vs_inference.png)"
   ]
  },
  {
   "cell_type": "code",
   "execution_count": null,
   "metadata": {},
   "outputs": [],
   "source": []
  },
  {
   "cell_type": "markdown",
   "metadata": {},
   "source": [
    "Seasonal pattern of the test data and the simulation. The simulation capture the correct seasonal patterns. \n",
    "\n",
    "![test_data_vs_inference_season](https://github.com/worasom/aqi_thailand2/blob/master/reports/chiang_mai/test_data_vs_inference_season.png)"
   ]
  },
  {
   "cell_type": "code",
   "execution_count": null,
   "metadata": {},
   "outputs": [],
   "source": []
  },
  {
   "cell_type": "markdown",
   "metadata": {},
   "source": []
  },
  {
   "cell_type": "markdown",
   "metadata": {},
   "source": [
    "In the figure below, (top) seasonal pattern of the pollution level when the burning activities are reduced to 100%, 90%, 50%, and 10% in 0 – 100 km radius. 100% means no fire reduction. (bottom) corresponding numbers of hotspots per day in different scenarios. The horizontal lines indicate the moderate(orange) and unhealthy(red) AQIs\n",
    "\n",
    "![effect_fire_0_700km_sea](https://github.com/worasom/aqi_thailand2/blob/master/reports/chiang_mai/effect_fire_0_700km_sea.png)"
   ]
  },
  {
   "cell_type": "code",
   "execution_count": null,
   "metadata": {},
   "outputs": [],
   "source": []
  },
  {
   "cell_type": "code",
   "execution_count": null,
   "metadata": {},
   "outputs": [],
   "source": []
  },
  {
   "cell_type": "markdown",
   "metadata": {},
   "source": [
    "average pollution level in December-April upon reducing the burning activities to different percent. The horizontal lines indicate the moderate(orange) and unhealthy(red) AQIs. \n",
    "\n",
    "![effect_of_fire_reduction_3m](https://github.com/worasom/aqi_thailand2/blob/master/reports/chiang_mai/effect_of_fire_reduction_3m.png)"
   ]
  },
  {
   "cell_type": "code",
   "execution_count": null,
   "metadata": {},
   "outputs": [],
   "source": []
  },
  {
   "cell_type": "markdown",
   "metadata": {},
   "source": [
    "Putting togehter, this animation summarized the effect of fire reduction as the radius of fire reduction policy increases.\n",
    "\n",
    "![animation](https://github.com/worasom/aqi_thailand2/blob/master/reports/ani_plot/eff_reduced_fire1.gif)"
   ]
  },
  {
   "cell_type": "code",
   "execution_count": null,
   "metadata": {},
   "outputs": [],
   "source": []
  },
  {
   "cell_type": "markdown",
   "metadata": {},
   "source": [
    "# Conclusions"
   ]
  },
  {
   "cell_type": "markdown",
   "metadata": {},
   "source": [
    "I study the sources of the air pollution problem in Chiang Mai. The major problem is from the high AQI of PM2.5 pollution. The PM2.5 level has a seasonal pattern with value exceed the moderate AQI between December-April and often exceeds unhealthy AQI in March. Other pollutants such as PM10 and O¬3, also exhibit similar seasonal patterns but with peak AQIs still in the moderate range. By inspecting the seasonal pattern of the pollution level, I rule out traffic, industrial activities, and power plants from the possible sources of air pollution and identify that agricultural burning as the major source. The number of burning hotspots seen from the MODIS satellite has the same seasonal pattern as that of the PM2.5 level. Moreover, in the years with abnormally low burning activities correspond to those with lower pollution levels. The number of burning activities and thus the pollution level is not a result of climate change because of their decreasing yearly trends, which is opposite to the increasing temperature trend. \n",
    "\n",
    "To quantify the effect of the burning activities toward the PM2.5 level, I trained a random forest regressor to predict the hourly PM2.5 level with the weather, hotspots within 1000 km from Chiang Mai, and auxiliary date-time information as a tabular input. The hotspots data are divided into distance-based zones to measure the effect of each zone. The model achieved 0.71 R2-score for hourly values in the 3 recent years of unseen dataset, and 0.78 R2-score when considering the daily average values. As expected, the model order of importance ranks the hotspots columns as the tops with the first in 100-200 km zone as most important. The trained model is used to simulate a range of possible pollution levels using the historical input values in the training dataset. The average pollution level has correct seasonal patterns and values as the data in the unseen dataset. The simulated pollution levels under different scenarios with reduced burning activities. The simulation shows that reducing the burning activities within the Thailand border (100 km area from Chiang Mai) alone could not lower to PM2.5 level from the unhealthy AQI, and aggressive reduction in the area covered as far a 1000 km is needed. \n"
   ]
  }
 ],
 "metadata": {
  "kernelspec": {
   "display_name": "Python 3",
   "language": "python",
   "name": "python3"
  },
  "language_info": {
   "codemirror_mode": {
    "name": "ipython",
    "version": 3
   },
   "file_extension": ".py",
   "mimetype": "text/x-python",
   "name": "python",
   "nbconvert_exporter": "python",
   "pygments_lexer": "ipython3",
   "version": "3.7.5"
  },
  "toc": {
   "base_numbering": 1,
   "nav_menu": {},
   "number_sections": true,
   "sideBar": true,
   "skip_h1_title": false,
   "title_cell": "Table of Contents",
   "title_sidebar": "Contents",
   "toc_cell": true,
   "toc_position": {
    "height": "calc(100% - 180px)",
    "left": "10px",
    "top": "150px",
    "width": "233.225px"
   },
   "toc_section_display": true,
   "toc_window_display": false
  }
 },
 "nbformat": 4,
 "nbformat_minor": 4
}
